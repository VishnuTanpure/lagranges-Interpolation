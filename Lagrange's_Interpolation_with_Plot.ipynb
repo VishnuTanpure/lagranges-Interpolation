{
  "nbformat": 4,
  "nbformat_minor": 0,
  "metadata": {
    "colab": {
      "private_outputs": true,
      "provenance": []
    },
    "kernelspec": {
      "name": "python3",
      "display_name": "Python 3"
    }
  },
  "cells": [
    {
      "cell_type": "code",
      "metadata": {
        "id": "PYbXsJ6kV-gc",
        "cellView": "form"
      },
      "source": [
        "#@title ##***$Start$***\n",
        "!pip install --upgrade IPython &> /dev/null\n",
        "print(\"Session will Restart Automatically !\")\n",
        "print()\n",
        "print(\"wait for few seconds then go to the next step\")\n",
        "exit()"
      ],
      "execution_count": null,
      "outputs": []
    },
    {
      "cell_type": "code",
      "metadata": {
        "id": "0JHKcw8yL0zx",
        "cellView": "form"
      },
      "source": [
        "#@title ##***$Enter \\ \\ Data$***\n",
        "\n",
        "import numpy as np\n",
        "import sympy as sp\n",
        "from prettytable import PrettyTable\n",
        "import matplotlib.pyplot as plt\n",
        "from matplotlib.pyplot import figure\n",
        "\n",
        " \n",
        "x=sp.symbols('x')\n",
        "figure(num=None, figsize=(10, 10), dpi=80, facecolor='w', edgecolor='k')\n",
        "check=1\n",
        "while (check==1):\n",
        "    try:  \n",
        "        X0=[sp.Rational(i) for i in input(\"Enter the values of 'x' seperated by ',' : \").split(',')]\n",
        "        Y0=[sp.Rational(i) for i in input(\"Enter the values of 'y' seperated by ',' : \").split(',')]\n",
        "        if (len(X0)==len(Y0)):\n",
        "            check=0\n",
        "        else:\n",
        "            print(\"Please enter same number of values for x and y !\")\n",
        "            check=1\n",
        "    except Exception as e:\n",
        "        print(e)\n",
        "        check=0\n",
        "for i in range(len(X0)):\n",
        "    X0[i]=round(X0[i],6)\n",
        "    Y0[i]=round(Y0[i],6)\n",
        "\n",
        "plt.axvline(x=0, color='grey')\n",
        "plt.axhline(y=0, color='grey')\n",
        "plt.xlabel(\"x\")\n",
        "plt.ylabel(\"y\")\n",
        "plt.scatter(X0,Y0,c='blue',marker='o',linewidths=4)  \n",
        "print()\n",
        "print()\n",
        "print('      Scatter Plot of given data is')\n",
        "plt.show()"
      ],
      "execution_count": null,
      "outputs": []
    },
    {
      "cell_type": "code",
      "metadata": {
        "id": "Yzesmt9tIjzv",
        "cellView": "form"
      },
      "source": [
        "#@title ##***$Lagrange's \\ \\ Interpolation \\ \\ Formula$*** { form-width: \"20%\" }\n",
        "\n",
        "!pip install --upgrade IPython &> /dev/null\n",
        "\n",
        "from IPython.display import HTML, Math, display\n",
        "display(HTML(\"<script src='https://cdnjs.cloudflare.com/ajax/libs/mathjax/2.7.3/\"\n",
        "    \"latest.js?config=default'> </script>\"))\n",
        "\n",
        "\n",
        "n=len(X0)\n",
        "display(Math(r\" {\\large The \\ \\ Lagrange's \\ \\ interpolation \\ \\ formula \\ \\ is }\"))\n",
        "print()\n",
        "expr0=r'f(x) \\ = \\ \\sum_{i=0}^{' + sp.latex(n) + r'} L_i \\left( x \\right) y_{_i } \\ = \\ '\n",
        "\n",
        "for i in range(n):\n",
        "    expr0=expr0+r'L_{'+sp.latex(i)+r'} \\left( x \\right) y_{_{'+sp.latex(i)+r'}}'\n",
        "    if (i != n-1):\n",
        "        expr0=expr0+r' \\ + \\ '\n",
        "display(Math(r'{ \\large ' + expr0 + r' \\ \\ \\ \\ -----(1) }')) \n",
        "\n",
        "print()\n",
        "print()\n",
        "print()\n",
        "\n",
        "display(Math(' \\ \\ \\ \\ \\ \\ \\ \\ {\\large here \\ \\ given \\ \\ data \\ \\ is }'))\n",
        "import plotly.graph_objects as go\n",
        "X0_str=[]\n",
        "Y0_str=[]\n",
        "for i in range(len(X0)):\n",
        "    X0_str.append(r'$ \\large{ x_{'+str(i)+r'} ='+sp.latex(X0[i])+r'}$')     \n",
        "    Y0_str.append(r'$ \\large{ y_{'+str(i)+r'} ='+sp.latex(Y0[i])+r'}$')\n",
        "\n",
        "fig = go.Figure(data=[go.Table(\n",
        "    columnwidth = [200,200],\n",
        "    #title=\"Automatic Labels Based on Data Frame Column Names\",\n",
        "    header=dict(values=[r'$ \\large{ x }$', r'$\\large { y }$'],\n",
        "                line_color='black',\n",
        "                fill_color='lightblue',\n",
        "                align='center'),\n",
        "    cells=dict(values=[X0_str, # 1st column\n",
        "                       Y0_str], # 2nd column\n",
        "               line_color='black',\n",
        "               fill_color='white',\n",
        "               align='left'))])\n",
        "\n",
        "#fig.update_layout(width=500, height=300)\n",
        "fig.update_layout(width=400,height=400)\n",
        "fig.show()"
      ],
      "execution_count": null,
      "outputs": []
    },
    {
      "cell_type": "code",
      "metadata": {
        "id": "aKuJUwDozZZm",
        "cellView": "form"
      },
      "source": [
        "#@title ##***$Lagrange's \\ \\ Basis \\ \\ Polynomials$*** { form-width: \"20%\" }\n",
        "\n",
        "str0_L_N=[(r'') for i in range(n)]\n",
        "str0_L_D=[(r'') for i in range(n)]\n",
        "str_L_N=[(r'') for i in range(n)]\n",
        "str_L_D=[(r'') for i in range(n)]\n",
        "L_N=[(1) for i in range(n)]\n",
        "L_D=[(1) for i in range(n)]\n",
        "for i in range(n):\n",
        "    for j in range(n):\n",
        "        if (i != j):\n",
        "            str0_L_N[i]=str0_L_N[i]+r' \\left ( x - x_{ ' + sp.latex(j) + r'} \\right ) '\n",
        "            str_L_N[i]=str_L_N[i]+r' \\left ( x - ' + sp.latex(X0[j]) + r' \\right ) '\n",
        "            L_N[i]=sp.expand(L_N[i] * (x-X0[j]))\n",
        "            str0_L_D[i]=str0_L_D[i]+r' \\left ( x_{ ' + sp.latex(i) + r' } - x_{ ' + sp.latex(j) + r'} \\right ) '\n",
        "            str_L_D[i]=str_L_D[i]+r' \\left ( ' + sp.latex(X0[i]) + r'-' + sp.latex(X0[j]) + r' \\right ) '\n",
        "            L_D[i]=sp.expand(L_D[i] * (X0[i] - X0[j]))\n",
        "    \n",
        "    display(Math(r' { \\large L_{'+sp.latex(i)+r'} \\left( x \\right) \\ = \\ \\frac{' +str0_L_N[i] +r'}{'+ str0_L_D[i]\n",
        "                 +r'} \\ = \\ \\frac{' +str_L_N[i] +r'}{'+ str_L_D[i]+r'} }')) \n",
        "    print()\n",
        "    print()\n",
        "    display(Math(r' { \\large \\therefore \\ L_{'+sp.latex(i)+r'} \\left( x \\right) \\ = \\ \\frac{'+ sp.latex(L_N[i])+r'}{'+sp.latex(L_D[i])+r'} }'))     \n",
        "    print()   \n",
        "    print()\n",
        "    print()"
      ],
      "execution_count": null,
      "outputs": []
    },
    {
      "cell_type": "code",
      "metadata": {
        "id": "rgIsvNRMo0TM",
        "cellView": "form"
      },
      "source": [
        "#@title ##***$Lagrange's \\ \\ Interpolating \\ \\ Polynomial$*** { form-width: \"20%\" }\n",
        "\n",
        "display(Math(r' {\\large Substituting \\ \\ above \\ \\ L_i \\left( x \\right) \\ \\ in \\ \\ eq^n \\ (1), \\ we \\ \\ get }'))\n",
        "print()\n",
        "expr1=r'y = \\ '\n",
        "for i in range(n):\n",
        "    expr1=expr1 + sp.latex(Y0[i]) + r' \\left( \\frac{ ' + sp.latex(L_N[i]) + r'} {' + sp.latex(L_D[i]) + r'} \\right)'\n",
        "    if (i != n-1):\n",
        "        expr1=expr1+r' \\ + \\ '\n",
        "display(Math(r'{\\large ' + expr1 + r'}'))   \n",
        "\n",
        "y=0\n",
        "for i in range(n):\n",
        "    y = y + Y0[i]*sp.expand(L_N[i]/L_D[i])\n",
        "\n",
        "print()  \n",
        "print()  \n",
        "display(Math(r\"{\\red {\\Large \\therefore \\ \\ Lagrange's \\ \\ Interpolating \\ \\ Polynomial \\ \\ is }}\"))\n",
        "print()\n",
        "display(Math(r\"{\\red {\\Large \\ \\ \\ \\ y \\ = \\ \" + sp.latex(y) + r\"}}\"))\n"
      ],
      "execution_count": null,
      "outputs": []
    },
    {
      "cell_type": "code",
      "metadata": {
        "id": "AVTxXXKM1-he",
        "cellView": "form"
      },
      "source": [
        "#@title ##***$Polynomial \\ \\ Curve \\ \\ which \\ \\ passes \\ \\ through \\ \\ the \\ \\ given \\ \\ points$*** { form-width: \"20%\" }\n",
        "figure(num=None, figsize=(10, 10), dpi=80, facecolor='w', edgecolor='k')\n",
        "f=y\n",
        "\n",
        "plt.axvline(x=0, color='grey')\n",
        "plt.axhline(y=0, color='grey')\n",
        "plt.xlabel(\"x\")\n",
        "plt.ylabel(\"y\")\n",
        "plt.scatter(X0,Y0,c='blue',marker='o',linewidths=4)                    # Plot points\n",
        "\n",
        "xpl=np.linspace(float(min(X0)-0.2), float(max(X0)+0.1) ,1000)\n",
        "ypl=[(f.subs(x,i)) for i in xpl]\n",
        "plt.plot(xpl,ypl, 'r')\n",
        "\n",
        "print(\"      Lagranges Polynomial which passes through the given points is\")"
      ],
      "execution_count": null,
      "outputs": []
    },
    {
      "cell_type": "code",
      "metadata": {
        "id": "fgK911R4EZO6",
        "cellView": "form"
      },
      "source": [
        "#@title ##***$Evaluate \\ \\ y \\ \\ for \\ \\ different \\ \\ values \\ \\ of \\ \\ x$***\n",
        "a=sp.Poly(f,x)\n",
        "coeff=a.all_coeffs()\n",
        "p1=np.poly1d(coeff)\n",
        "\n",
        "try:\n",
        "    xc=sp.Rational(input(\"at x = \"))\n",
        "    print()   \n",
        "    val=np.polyval(coeff,xc)\n",
        "    print(\"   y =\",sp.Rational(val).limit_denominator(100),end=' ')\n",
        "    print('=',float(val))\n",
        "    \n",
        "except Exception as e:\n",
        "    print(e)"
      ],
      "execution_count": null,
      "outputs": []
    }
  ]
}